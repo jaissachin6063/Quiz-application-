{
 "cells": [
  {
   "cell_type": "code",
   "execution_count": 11,
   "id": "8c7d2847-27fc-4f15-9170-5e642269cf7b",
   "metadata": {},
   "outputs": [
    {
     "name": "stdout",
     "output_type": "stream",
     "text": [
      "Question 1: What is the capital of India?\n"
     ]
    },
    {
     "name": "stdin",
     "output_type": "stream",
     "text": [
      "Your answer:  delhi\n"
     ]
    },
    {
     "name": "stdout",
     "output_type": "stream",
     "text": [
      "Correct!\n",
      "\n",
      "Question 2: Who is the prime minister of India?\n"
     ]
    },
    {
     "name": "stdin",
     "output_type": "stream",
     "text": [
      "Your answer:  modi\n"
     ]
    },
    {
     "name": "stdout",
     "output_type": "stream",
     "text": [
      "Correct!\n",
      "\n",
      "Question 3: Which country do you live in ?\n"
     ]
    },
    {
     "name": "stdin",
     "output_type": "stream",
     "text": [
      "Your answer:  india\n"
     ]
    },
    {
     "name": "stdout",
     "output_type": "stream",
     "text": [
      "Correct!\n",
      "\n",
      "Question 4: What is the rarest blood type?\n"
     ]
    },
    {
     "name": "stdin",
     "output_type": "stream",
     "text": [
      "Your answer:  ab negative\n"
     ]
    },
    {
     "name": "stdout",
     "output_type": "stream",
     "text": [
      "Correct!\n",
      "\n",
      "Question 5: What is the largest planet in our solar system?\n"
     ]
    },
    {
     "name": "stdin",
     "output_type": "stream",
     "text": [
      "Your answer:  jupitar\n"
     ]
    },
    {
     "name": "stdout",
     "output_type": "stream",
     "text": [
      "Incorrect. The correct answer is: jupiter\n",
      "\n",
      "Your final score is: 4/5\n"
     ]
    }
   ],
   "source": [
    "def quiz():\n",
    "    # Define the questions and answers\n",
    "    questions = [\n",
    "        \"What is the capital of India?\",\n",
    "        \"Who is the prime minister of India?\",\n",
    "        \"Which country do you live in ?\",\n",
    "        \"What is the rarest blood type?\",\n",
    "        \"What is the largest planet in our solar system?\"\n",
    "    ]\n",
    "    \n",
    "    answers = [\n",
    "        \"delhi\",\n",
    "        \"modi\",\n",
    "        \"india\",\n",
    "        \"ab negative\",\n",
    "        \"jupiter\"\n",
    "    ]\n",
    "    \n",
    "    # Initialize the score\n",
    "    score = 0\n",
    "    \n",
    "    # Loop through each question\n",
    "    for i in range(len(questions)):\n",
    "        print(f\"Question {i+1}: {questions[i]}\")\n",
    "        user_answer = input(\"Your answer: \").lower()\n",
    "        \n",
    "        # Check if the user's answer is correct\n",
    "        if user_answer == answers[i]:\n",
    "            print(\"Correct!\")\n",
    "            score += 1\n",
    "        else:\n",
    "            print(f\"Incorrect. The correct answer is: {answers[i]}\")\n",
    "        \n",
    "        print()\n",
    "    \n",
    "    # Display the final score\n",
    "    print(f\"Your final score is: {score}/{len(questions)}\")\n",
    "\n",
    "# Start the quiz\n",
    "quiz()"
   ]
  },
  {
   "cell_type": "code",
   "execution_count": null,
   "id": "4aa50fc7-5c36-4267-b6a0-d1517370541c",
   "metadata": {},
   "outputs": [],
   "source": []
  }
 ],
 "metadata": {
  "kernelspec": {
   "display_name": "Python 3 (ipykernel)",
   "language": "python",
   "name": "python3"
  },
  "language_info": {
   "codemirror_mode": {
    "name": "ipython",
    "version": 3
   },
   "file_extension": ".py",
   "mimetype": "text/x-python",
   "name": "python",
   "nbconvert_exporter": "python",
   "pygments_lexer": "ipython3",
   "version": "3.12.4"
  }
 },
 "nbformat": 4,
 "nbformat_minor": 5
}
